{
 "cells": [
  {
   "cell_type": "markdown",
   "metadata": {},
   "source": [
    "Program 1"
   ]
  },
  {
   "cell_type": "code",
   "execution_count": 1,
   "metadata": {},
   "outputs": [
    {
     "name": "stdout",
     "output_type": "stream",
     "text": [
      "Enter Name of best Students : Filza\n",
      "Enter Name of best Students : Wahab\n",
      "Enter Name of best Students : Saboor\n",
      "Enter Name of best Students : Umer\n",
      "Enter Name of best Students : Rafey\n",
      "Names of best Students :  {'Filza', 'Rafey', 'Umer', 'Wahab', 'Saboor'}\n"
     ]
    }
   ],
   "source": [
    "beststudents = set()\n",
    "for i in range(5):\n",
    "    name = input('Enter Name of best Students : ')\n",
    "    beststudents.add(name)\n",
    "print('Names of best Students : ',beststudents)"
   ]
  },
  {
   "cell_type": "markdown",
   "metadata": {},
   "source": [
    "Program 2"
   ]
  },
  {
   "cell_type": "code",
   "execution_count": 2,
   "metadata": {},
   "outputs": [
    {
     "name": "stdout",
     "output_type": "stream",
     "text": [
      "List of Students :  {'Huzaifa', 'Osarim', 'Danish', 'Bilal', 'Ammar', 'Shahmeer'}\n",
      "Number of Students :  6\n",
      "After leaving List of Students are :  {'Huzaifa', 'Osarim', 'Bilal', 'Ammar'}\n",
      "Number of Students After Leaving:  4\n"
     ]
    }
   ],
   "source": [
    "students = {'Osarim', 'Shahmeer', 'Bilal', 'Huzaifa', 'Danish','Ammar'}\n",
    "print('List of Students : ',students)\n",
    "print('Number of Students : ',len(students))\n",
    "students.remove('Danish')\n",
    "students.remove('Shahmeer')\n",
    "print('After leaving List of Students are : ',students)\n",
    "print('Number of Students After Leaving: ',len(students))"
   ]
  },
  {
   "cell_type": "markdown",
   "metadata": {},
   "source": [
    "Program 3"
   ]
  },
  {
   "cell_type": "code",
   "execution_count": 3,
   "metadata": {},
   "outputs": [
    {
     "name": "stdout",
     "output_type": "stream",
     "text": [
      "Originally the dish list is :  {'Qorma', 'Nihari', 'Haleem', 'Biryani', 'Pizza'}\n",
      "After poping Set of Best Dishes is :  {'Nihari', 'Haleem', 'Biryani', 'Pizza'}\n",
      "After poping Set of Best Dishes is :  {'Haleem', 'Biryani', 'Pizza'}\n",
      "After poping Set of Best Dishes is :  {'Biryani', 'Pizza'}\n",
      "After poping Set of Best Dishes is :  {'Pizza'}\n",
      "After poping Set of Best Dishes is :  set()\n"
     ]
    }
   ],
   "source": [
    "bestdishes = {'Qorma','Biryani','Pizza','Nihari','Haleem'}\n",
    "print('Originally the dish list is : ',bestdishes)\n",
    "for i in range (len(bestdishes)):\n",
    "    bestdishes.pop()\n",
    "    print(\"After poping Set of Best Dishes is : \",bestdishes)"
   ]
  },
  {
   "cell_type": "code",
   "execution_count": 4,
   "metadata": {},
   "outputs": [
    {
     "name": "stdout",
     "output_type": "stream",
     "text": [
      "Enter the item Orange or Mango or Apple : apple\n",
      "Enter the item Orange or Mango or Apple : mango\n",
      "Enter the item Orange or Mango or Apple : mango\n",
      "Enter the item Orange or Mango or Apple : stop\n",
      "Number of Oranges Sold :  0\n",
      "Number of Mangoes Sold :  2\n",
      "Number of Apples Sold :  1\n",
      "Mango is Sold the most\n",
      "Orange is Sold the least\n"
     ]
    }
   ],
   "source": [
    "Apples = {1,2,3,4,5}\n",
    "lenApples = len(Apples)\n",
    "Mango = {1,2,3,4,5,6}\n",
    "lenMango = len(Mango)\n",
    "Orange = {1,2,3,4,5,6,7}\n",
    "lenOrange = len(Orange)\n",
    "shop = 'open'\n",
    "while shop == 'open':\n",
    "    item = input(\"Enter the item Orange or Mango or Apple : \")\n",
    "    item = item.lower()\n",
    "    if item == 'orange':\n",
    "        Orange.pop()\n",
    "    elif item == 'mango':\n",
    "        Mango.pop()\n",
    "    elif item == 'apple':\n",
    "        Apples.pop()\n",
    "    else:\n",
    "        break\n",
    "lenOrangeEnd = lenOrange-len(Orange)\n",
    "lenApplesEnd = lenApples - len(Apples)\n",
    "lenMangoEnd = lenMango - len(Mango)\n",
    "print(\"Number of Oranges Sold : \",lenOrangeEnd)\n",
    "print(\"Number of Mangoes Sold : \",lenMangoEnd)\n",
    "print(\"Number of Apples Sold : \",lenApplesEnd)\n",
    "\n",
    "\n",
    "maxsold = max(lenOrangeEnd,lenApplesEnd,lenMangoEnd)\n",
    "if maxsold == lenOrangeEnd:\n",
    "    print(\"Orange is Sold the most\")\n",
    "elif maxsold == lenMangoEnd:\n",
    "    print(\"Mango is Sold the most\")\n",
    "else:\n",
    "    print('Apples is Sold the most')\n",
    "\n",
    "minsold = min(lenOrangeEnd,lenApplesEnd,lenMangoEnd)    \n",
    "if minsold == lenOrangeEnd:\n",
    "    print(\"Orange is Sold the least\")\n",
    "elif minsold == lenMangoEnd:\n",
    "    print(\"Mango is Sold the least\")\n",
    "else:\n",
    "    print('Apples is Sold the least')"
   ]
  },
  {
   "cell_type": "markdown",
   "metadata": {},
   "source": [
    "Program 5"
   ]
  },
  {
   "cell_type": "code",
   "execution_count": 5,
   "metadata": {},
   "outputs": [
    {
     "name": "stdout",
     "output_type": "stream",
     "text": [
      "Number of Students that only play Hockey :  11\n",
      "Number of Students that only plays Cricket :  19\n",
      "Number of Students that plays both cricket and hockey :  10\n"
     ]
    }
   ],
   "source": [
    "Hockey = 21\n",
    "UniversalSet = 40\n",
    "Both = 10\n",
    "OnlyHockey = Hockey - Both\n",
    "print(\"Number of Students that only play Hockey : \",OnlyHockey)\n",
    "OnlyCricket = UniversalSet - OnlyHockey - Both\n",
    "print(\"Number of Students that only plays Cricket : \",OnlyCricket)\n",
    "print(\"Number of Students that plays both cricket and hockey : \",Both)"
   ]
  },
  {
   "cell_type": "markdown",
   "metadata": {},
   "source": [
    "Program 6"
   ]
  },
  {
   "cell_type": "code",
   "execution_count": 6,
   "metadata": {},
   "outputs": [
    {
     "name": "stdout",
     "output_type": "stream",
     "text": [
      "Dog Products Only :  50\n",
      "Cat Products Only :  66\n",
      "Dog or A fish Product :  60\n",
      "Total purchases :  197\n"
     ]
    }
   ],
   "source": [
    "Dog = 83\n",
    "Cat = 101\n",
    "Fish = 22\n",
    "DogandCat = 25\n",
    "DogandFish = 2\n",
    "CatandFish = 4\n",
    "DogFishandCat = 6\n",
    "Other = 34\n",
    "DogOnly = Dog - DogandCat - DogandFish - DogFishandCat\n",
    "print('Dog Products Only : ',DogOnly)\n",
    "CatOnly = Cat - DogandCat - CatandFish - DogFishandCat\n",
    "print('Cat Products Only : ',CatOnly)\n",
    "FishOnly = Fish - CatandFish - DogandFish - DogFishandCat\n",
    "print('Dog or A fish Product : ',FishOnly + DogOnly)\n",
    "totalpurchase = DogandFish + DogandCat + CatandFish + DogFishandCat + Other + FishOnly + CatOnly + DogOnly\n",
    "print(\"Total purchases : \",totalpurchase)"
   ]
  },
  {
   "cell_type": "markdown",
   "metadata": {},
   "source": [
    "Program 7"
   ]
  },
  {
   "cell_type": "code",
   "execution_count": 7,
   "metadata": {},
   "outputs": [
    {
     "name": "stdout",
     "output_type": "stream",
     "text": [
      "Speak Neither of these Language :  5\n",
      "Only English and Spanish but not french :  20\n",
      "Speak French but not english not spanish :  11\n",
      "Only One of the Language :  46\n",
      "Two of Three Language :  46\n"
     ]
    }
   ],
   "source": [
    "OnlyEnglish = 25\n",
    "OnlyFrench = 11\n",
    "OnlySpanish = 10\n",
    "SpanishEnglishFrench = 13\n",
    "SpanishandFrench = 9\n",
    "EnglishandFrench = 17\n",
    "SpanishandEnglish = 20\n",
    "Noneofthem = 110 - (OnlyEnglish + OnlyFrench + OnlySpanish + SpanishEnglishFrench + SpanishandFrench + EnglishandFrench + SpanishandEnglish)\n",
    "print(\"Speak Neither of these Language : \",Noneofthem)\n",
    "print('Only English and Spanish but not french : ',SpanishandEnglish)\n",
    "print(\"Speak French but not english not spanish : \",OnlyFrench)\n",
    "print(\"Only One of the Language : \",OnlyEnglish + OnlyFrench + OnlySpanish)\n",
    "print(\"Two of Three Language : \",SpanishandFrench + EnglishandFrench + SpanishandEnglish)"
   ]
  }
 ],
 "metadata": {
  "kernelspec": {
   "display_name": "Python 3",
   "language": "python",
   "name": "python3"
  },
  "language_info": {
   "codemirror_mode": {
    "name": "ipython",
    "version": 3
   },
   "file_extension": ".py",
   "mimetype": "text/x-python",
   "name": "python",
   "nbconvert_exporter": "python",
   "pygments_lexer": "ipython3",
   "version": "3.7.3"
  }
 },
 "nbformat": 4,
 "nbformat_minor": 2
}
